{
  "nbformat": 4,
  "nbformat_minor": 0,
  "metadata": {
    "colab": {
      "provenance": [],
      "authorship_tag": "ABX9TyMJ78MmMUs8q1AT1O2QwOKb",
      "include_colab_link": true
    },
    "kernelspec": {
      "name": "python3",
      "display_name": "Python 3"
    },
    "language_info": {
      "name": "python"
    }
  },
  "cells": [
    {
      "cell_type": "markdown",
      "metadata": {
        "id": "view-in-github",
        "colab_type": "text"
      },
      "source": [
        "<a href=\"https://colab.research.google.com/github/xavierbox/torching/blob/main/torch1.ipynb\" target=\"_parent\"><img src=\"https://colab.research.google.com/assets/colab-badge.svg\" alt=\"Open In Colab\"/></a>"
      ]
    },
    {
      "cell_type": "code",
      "execution_count": 1,
      "metadata": {
        "colab": {
          "base_uri": "https://localhost:8080/"
        },
        "id": "peMuRcQGMKMm",
        "outputId": "a3d4034c-b534-41b4-c24d-184e94161eac"
      },
      "outputs": [
        {
          "output_type": "stream",
          "name": "stdout",
          "text": [
            "starting...\n",
            "1.23.5 1.5.3 5.15.0\n"
          ]
        }
      ],
      "source": [
        "print('starting...')\n",
        "\n",
        "import pandas as pd, numpy as np\n",
        "\n",
        "import torch\n",
        "\n",
        "\n",
        "#advanced charting\n",
        "import plotly as pyplot\n",
        "import plotly.io as pio\n",
        "\n",
        "print( np.__version__, pd.__version__, pyplot.__version__)\n"
      ]
    },
    {
      "cell_type": "code",
      "source": [
        "import torch\n",
        "x = torch.rand(5, 3)\n",
        "print(x)"
      ],
      "metadata": {
        "colab": {
          "base_uri": "https://localhost:8080/"
        },
        "id": "derv8o5tMNPP",
        "outputId": "6870c035-eb07-4c60-fe86-b71c604960db"
      },
      "execution_count": null,
      "outputs": [
        {
          "output_type": "stream",
          "name": "stdout",
          "text": [
            "tensor([[0.5645, 0.2487, 0.4917],\n",
            "        [0.6441, 0.9993, 0.6871],\n",
            "        [0.9645, 0.3698, 0.2021],\n",
            "        [0.0947, 0.9165, 0.0381],\n",
            "        [0.6929, 0.8808, 0.2894]])\n"
          ]
        }
      ]
    },
    {
      "cell_type": "code",
      "source": [],
      "metadata": {
        "id": "lMdiUIxFMNRk"
      },
      "execution_count": null,
      "outputs": []
    },
    {
      "cell_type": "code",
      "source": [],
      "metadata": {
        "id": "eN3gLql1MNUd"
      },
      "execution_count": null,
      "outputs": []
    },
    {
      "cell_type": "code",
      "source": [],
      "metadata": {
        "id": "M7h6_6ROMNXs"
      },
      "execution_count": null,
      "outputs": []
    },
    {
      "cell_type": "code",
      "source": [],
      "metadata": {
        "id": "Or0ydgs5MNaI"
      },
      "execution_count": null,
      "outputs": []
    }
  ]
}